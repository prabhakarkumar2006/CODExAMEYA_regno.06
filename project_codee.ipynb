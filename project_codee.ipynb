{
  "cells": [
    {
      "cell_type": "markdown",
      "metadata": {
        "id": "view-in-github",
        "colab_type": "text"
      },
      "source": [
        "<a href=\"https://colab.research.google.com/github/prabhakarkumar2006/CODExAMEYA_regno.06/blob/main/project_codee.ipynb\" target=\"_parent\"><img src=\"https://colab.research.google.com/assets/colab-badge.svg\" alt=\"Open In Colab\"/></a>"
      ]
    },
    {
      "cell_type": "code",
      "execution_count": null,
      "metadata": {
        "id": "NffyD85dKbHW"
      },
      "outputs": [],
      "source": [
        "import pandas as pd\n",
        "import numpy as np\n",
        "import seaborn as sns\n",
        "import matplotlib.pyplot as plt\n",
        "from sklearn.model_selection import train_test_split\n",
        "from sklearn.metrics import accuracy_score\n",
        "from sklearn.metrics import classification_report\n",
        "import re\n",
        "import string"
      ]
    },
    {
      "cell_type": "code",
      "execution_count": null,
      "metadata": {
        "id": "enV09JePDP3K",
        "colab": {
          "base_uri": "https://localhost:8080/",
          "height": 165
        },
        "outputId": "89056682-323a-412b-d2da-5218ed1427cb"
      },
      "outputs": [
        {
          "output_type": "error",
          "ename": "NameError",
          "evalue": "name 'pd' is not defined",
          "traceback": [
            "\u001b[0;31m---------------------------------------------------------------------------\u001b[0m",
            "\u001b[0;31mNameError\u001b[0m                                 Traceback (most recent call last)",
            "\u001b[0;32m<ipython-input-1-1830dfe0a668>\u001b[0m in \u001b[0;36m<cell line: 0>\u001b[0;34m()\u001b[0m\n\u001b[0;32m----> 1\u001b[0;31m \u001b[0mdf_fake\u001b[0m \u001b[0;34m=\u001b[0m \u001b[0mpd\u001b[0m\u001b[0;34m.\u001b[0m\u001b[0mread_csv\u001b[0m\u001b[0;34m(\u001b[0m\u001b[0;34m\"/content/Fake.csv\"\u001b[0m\u001b[0;34m)\u001b[0m\u001b[0;34m\u001b[0m\u001b[0;34m\u001b[0m\u001b[0m\n\u001b[0m\u001b[1;32m      2\u001b[0m \u001b[0mdf_true\u001b[0m \u001b[0;34m=\u001b[0m \u001b[0mpd\u001b[0m\u001b[0;34m.\u001b[0m\u001b[0mread_csv\u001b[0m\u001b[0;34m(\u001b[0m\u001b[0;34m\"/content/True.csv\"\u001b[0m\u001b[0;34m)\u001b[0m\u001b[0;34m\u001b[0m\u001b[0;34m\u001b[0m\u001b[0m\n",
            "\u001b[0;31mNameError\u001b[0m: name 'pd' is not defined"
          ]
        }
      ],
      "source": [
        "df_fake = pd.read_csv(\"/content/Fake.csv\")\n",
        "df_true = pd.read_csv(\"/content/True.csv\")"
      ]
    },
    {
      "cell_type": "code",
      "execution_count": null,
      "metadata": {
        "id": "KOQWyCvDDv3T"
      },
      "outputs": [],
      "source": [
        "df_fake.head()"
      ]
    },
    {
      "cell_type": "code",
      "execution_count": null,
      "metadata": {
        "id": "1uSIHZEuDz-p"
      },
      "outputs": [],
      "source": [
        "df_true.head(5)"
      ]
    },
    {
      "cell_type": "code",
      "execution_count": null,
      "metadata": {
        "id": "8GTXnrqAD0zi"
      },
      "outputs": [],
      "source": [
        "df_fake[\"class\"] = 0\n",
        "df_true[\"class\"] = 1"
      ]
    },
    {
      "cell_type": "code",
      "execution_count": null,
      "metadata": {
        "id": "SzOBBx2cD5Ou"
      },
      "outputs": [],
      "source": [
        "df_fake.shape, df_true.shape"
      ]
    },
    {
      "cell_type": "code",
      "execution_count": null,
      "metadata": {
        "id": "J_mcJj1VD9VU"
      },
      "outputs": [],
      "source": [
        "# Removing last 10 rows for manual testing\n",
        "df_fake_manual_testing = df_fake.tail(10)\n",
        "for i in range(23480,23470,-1):\n",
        "    df_fake.drop([i], axis = 0, inplace = True)\n",
        "\n",
        "\n",
        "df_true_manual_testing = df_true.tail(10)\n",
        "for i in range(21416,21406,-1):\n",
        "    df_true.drop([i], axis = 0, inplace = True)"
      ]
    },
    {
      "cell_type": "code",
      "execution_count": null,
      "metadata": {
        "id": "Z5rJRTcwEPsH"
      },
      "outputs": [],
      "source": [
        "df_fake.shape, df_true.shape"
      ]
    },
    {
      "cell_type": "code",
      "execution_count": null,
      "metadata": {
        "id": "0RUHYBR0EIbl"
      },
      "outputs": [],
      "source": [
        "df_fake_manual_testing[\"class\"] = 0\n",
        "df_true_manual_testing[\"class\"] = 1\n"
      ]
    },
    {
      "cell_type": "code",
      "execution_count": null,
      "metadata": {
        "id": "JK87lk05Hjzd"
      },
      "outputs": [],
      "source": [
        "df_fake_manual_testing.head(10)"
      ]
    },
    {
      "cell_type": "code",
      "execution_count": null,
      "metadata": {
        "id": "NtUy_p5vHm0H"
      },
      "outputs": [],
      "source": [
        "df_true_manual_testing.head(10)"
      ]
    },
    {
      "cell_type": "code",
      "execution_count": null,
      "metadata": {
        "id": "V7aS-VpoHo0v"
      },
      "outputs": [],
      "source": [
        "df_manual_testing = pd.concat([df_fake_manual_testing,df_true_manual_testing], axis = 0)\n",
        "df_manual_testing.to_csv(\"manual_testing.csv\")"
      ]
    },
    {
      "cell_type": "code",
      "execution_count": null,
      "metadata": {
        "id": "xZfG8BedHrVl"
      },
      "outputs": [],
      "source": [
        "df_merge = pd.concat([df_fake, df_true], axis =0 )\n",
        "df_merge.head(10)"
      ]
    },
    {
      "cell_type": "code",
      "execution_count": null,
      "metadata": {
        "id": "Rp5iu7qkHui0"
      },
      "outputs": [],
      "source": [
        "df_merge.columns"
      ]
    },
    {
      "cell_type": "code",
      "execution_count": null,
      "metadata": {
        "id": "0DT8WkBzHxK2"
      },
      "outputs": [],
      "source": [
        "df = df_merge.drop([\"title\", \"subject\",\"date\"], axis = 1)"
      ]
    },
    {
      "cell_type": "code",
      "execution_count": null,
      "metadata": {
        "id": "ZVfDIa-3Hzdy"
      },
      "outputs": [],
      "source": [
        "df.isnull().sum()"
      ]
    },
    {
      "cell_type": "code",
      "execution_count": null,
      "metadata": {
        "id": "jXfyHyxjH1Ph"
      },
      "outputs": [],
      "source": [
        "df = df.sample(frac = 1)"
      ]
    },
    {
      "cell_type": "code",
      "execution_count": null,
      "metadata": {
        "id": "XJ7AEh2zH3Ku"
      },
      "outputs": [],
      "source": [
        "df.head()"
      ]
    },
    {
      "cell_type": "code",
      "execution_count": null,
      "metadata": {
        "id": "Ly5h3XiGH487"
      },
      "outputs": [],
      "source": [
        "df.reset_index(inplace = True)\n",
        "df.drop([\"index\"], axis = 1, inplace = True)"
      ]
    },
    {
      "cell_type": "code",
      "execution_count": null,
      "metadata": {
        "id": "_d08McheH7YA"
      },
      "outputs": [],
      "source": [
        "df.columns"
      ]
    },
    {
      "cell_type": "code",
      "execution_count": null,
      "metadata": {
        "id": "4VF02f52H9dp"
      },
      "outputs": [],
      "source": [
        "df.head()"
      ]
    },
    {
      "cell_type": "code",
      "execution_count": null,
      "metadata": {
        "id": "NS1QhWTXH_OD"
      },
      "outputs": [],
      "source": [
        "def wordopt(text):\n",
        "    text = text.lower()\n",
        "    text = re.sub('\\[.*?\\]', '', text)\n",
        "    text = re.sub(\"\\\\W\",\" \",text)\n",
        "    text = re.sub('https?://\\S+|www\\.\\S+', '', text)\n",
        "    text = re.sub('<.*?>+', '', text)\n",
        "    text = re.sub('[%s]' % re.escape(string.punctuation), '', text)\n",
        "    text = re.sub('\\n', '', text)\n",
        "    text = re.sub('\\w*\\d\\w*', '', text)\n",
        "    return text"
      ]
    },
    {
      "cell_type": "code",
      "execution_count": null,
      "metadata": {
        "id": "Da1-uJ-NIBsF"
      },
      "outputs": [],
      "source": [
        "df[\"text\"] = df[\"text\"].apply(wordopt)"
      ]
    },
    {
      "cell_type": "code",
      "execution_count": null,
      "metadata": {
        "id": "sendv5f-IDqz"
      },
      "outputs": [],
      "source": [
        "x = df[\"text\"]\n",
        "y = df[\"class\"]\n"
      ]
    },
    {
      "cell_type": "code",
      "execution_count": null,
      "metadata": {
        "id": "j_BeND9nIGTQ"
      },
      "outputs": [],
      "source": [
        "x_train, x_test, y_train, y_test = train_test_split(x, y, test_size=0.25)"
      ]
    },
    {
      "cell_type": "code",
      "execution_count": null,
      "metadata": {
        "id": "imjjnYs_IJJz"
      },
      "outputs": [],
      "source": [
        "from sklearn.feature_extraction.text import TfidfVectorizer\n",
        "\n",
        "vectorization = TfidfVectorizer()\n",
        "xv_train = vectorization.fit_transform(x_train)\n",
        "xv_test = vectorization.transform(x_test)"
      ]
    },
    {
      "cell_type": "code",
      "execution_count": null,
      "metadata": {
        "id": "1vl-YS1cIMRb"
      },
      "outputs": [],
      "source": [
        "from sklearn.linear_model import LogisticRegression\n",
        "\n",
        "LR = LogisticRegression()\n",
        "LR.fit(xv_train,y_train)"
      ]
    },
    {
      "cell_type": "code",
      "execution_count": null,
      "metadata": {
        "id": "aR65gm4nIRSA"
      },
      "outputs": [],
      "source": [
        "pred_lr=LR.predict(xv_test)"
      ]
    },
    {
      "cell_type": "code",
      "execution_count": null,
      "metadata": {
        "id": "bc_Rzp4xITv3"
      },
      "outputs": [],
      "source": [
        "LR.score(xv_test, y_test)"
      ]
    },
    {
      "cell_type": "code",
      "execution_count": null,
      "metadata": {
        "id": "MPTQMPZQIWo0"
      },
      "outputs": [],
      "source": [
        "print(classification_report(y_test, pred_lr))"
      ]
    },
    {
      "cell_type": "code",
      "execution_count": null,
      "metadata": {
        "id": "hXST4Mh6IYr6"
      },
      "outputs": [],
      "source": [
        "from sklearn.tree import DecisionTreeClassifier\n",
        "\n",
        "DT = DecisionTreeClassifier()\n",
        "DT.fit(xv_train, y_train)"
      ]
    },
    {
      "cell_type": "code",
      "execution_count": null,
      "metadata": {
        "id": "HzQ-6Kt-IbP9"
      },
      "outputs": [],
      "source": [
        "pred_dt = DT.predict(xv_test)"
      ]
    },
    {
      "cell_type": "code",
      "execution_count": null,
      "metadata": {
        "id": "yD-Jqx0cIdMb"
      },
      "outputs": [],
      "source": [
        "DT.score(xv_test, y_test)"
      ]
    },
    {
      "cell_type": "code",
      "execution_count": null,
      "metadata": {
        "id": "bNm7pmHBIfD5"
      },
      "outputs": [],
      "source": [
        "print(classification_report(y_test, pred_dt))"
      ]
    },
    {
      "cell_type": "code",
      "execution_count": null,
      "metadata": {
        "id": "rsQ7jXW2IhTp"
      },
      "outputs": [],
      "source": [
        "from sklearn.ensemble import GradientBoostingClassifier\n",
        "\n",
        "GBC = GradientBoostingClassifier(random_state=0)\n",
        "GBC.fit(xv_train, y_train)"
      ]
    },
    {
      "cell_type": "code",
      "execution_count": null,
      "metadata": {
        "id": "jeLisVy3Ijb1"
      },
      "outputs": [],
      "source": [
        "pred_gbc = GBC.predict(xv_test)"
      ]
    },
    {
      "cell_type": "code",
      "execution_count": null,
      "metadata": {
        "id": "bJQqiJhKIlfj"
      },
      "outputs": [],
      "source": [
        "GBC.score(xv_test, y_test)"
      ]
    },
    {
      "cell_type": "code",
      "execution_count": null,
      "metadata": {
        "id": "8d7G9zjyInUx"
      },
      "outputs": [],
      "source": [
        "print(classification_report(y_test, pred_gbc))"
      ]
    },
    {
      "cell_type": "code",
      "execution_count": null,
      "metadata": {
        "id": "UL9eOT8yIqIa"
      },
      "outputs": [],
      "source": [
        "from sklearn.ensemble import RandomForestClassifier\n",
        "\n",
        "RFC = RandomForestClassifier(random_state=0)\n",
        "RFC.fit(xv_train, y_train)"
      ]
    },
    {
      "cell_type": "code",
      "execution_count": null,
      "metadata": {
        "id": "KBpyjmYJIsNe"
      },
      "outputs": [],
      "source": [
        "pred_rfc = RFC.predict(xv_test)"
      ]
    },
    {
      "cell_type": "code",
      "execution_count": null,
      "metadata": {
        "id": "kW7X5PTMIuYA"
      },
      "outputs": [],
      "source": [
        "RFC.score(xv_test, y_test)"
      ]
    },
    {
      "cell_type": "code",
      "execution_count": null,
      "metadata": {
        "id": "dhXYCTN5IwjS"
      },
      "outputs": [],
      "source": [
        "print(classification_report(y_test, pred_rfc))"
      ]
    },
    {
      "cell_type": "code",
      "execution_count": null,
      "metadata": {
        "id": "yF5Yw-KyIygC"
      },
      "outputs": [],
      "source": [
        "def output_lable(n):\n",
        "    if n == 0:\n",
        "        return \"Fake News\"\n",
        "    elif n == 1:\n",
        "        return \"Not A Fake News\"\n",
        "\n",
        "def manual_testing(news):\n",
        "    testing_news = {\"text\":[news]}\n",
        "    new_def_test = pd.DataFrame(testing_news)\n",
        "    new_def_test[\"text\"] = new_def_test[\"text\"].apply(wordopt)\n",
        "    new_x_test = new_def_test[\"text\"]\n",
        "    new_xv_test = vectorization.transform(new_x_test)\n",
        "    pred_LR = LR.predict(new_xv_test)\n",
        "    pred_DT = DT.predict(new_xv_test)\n",
        "    pred_GBC = GBC.predict(new_xv_test)\n",
        "    pred_RFC = RFC.predict(new_xv_test)\n",
        "\n",
        "    return print(\"\\n\\nLR Prediction: {} \\nDT Prediction: {} \\nGBC Prediction: {} \\nRFC Prediction: {}\".format(output_lable(pred_LR[0]),                                                                                                       output_lable(pred_DT[0]),\n",
        "                                                                                                              output_lable(pred_GBC[0]),\n",
        "                                                                                                              output_lable(pred_RFC[0])))"
      ]
    },
    {
      "cell_type": "code",
      "execution_count": null,
      "metadata": {
        "id": "PJUOdWV3I2qZ"
      },
      "outputs": [],
      "source": [
        "news = str(input())\n",
        "manual_testing(news)"
      ]
    },
    {
      "cell_type": "code",
      "execution_count": null,
      "metadata": {
        "id": "UK-2dhyJJyzu"
      },
      "outputs": [],
      "source": [
        "news = str(input())\n",
        "manual_testing(news)"
      ]
    },
    {
      "cell_type": "code",
      "execution_count": null,
      "metadata": {
        "id": "nKsLC1iGJ2r4"
      },
      "outputs": [],
      "source": [
        "news = str(input())\n",
        "manual_testing(news)"
      ]
    },
    {
      "cell_type": "code",
      "execution_count": null,
      "metadata": {
        "id": "bjznou0uJ5dK"
      },
      "outputs": [],
      "source": []
    }
  ],
  "metadata": {
    "accelerator": "GPU",
    "colab": {
      "gpuType": "T4",
      "provenance": [],
      "authorship_tag": "ABX9TyN4s121F79UiJVa7qaDlz/o",
      "include_colab_link": true
    },
    "kernelspec": {
      "display_name": "Python 3",
      "name": "python3"
    },
    "language_info": {
      "name": "python"
    }
  },
  "nbformat": 4,
  "nbformat_minor": 0
}